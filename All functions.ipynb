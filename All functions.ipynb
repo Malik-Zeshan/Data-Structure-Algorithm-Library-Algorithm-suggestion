{
 "cells": [
  {
   "cell_type": "code",
   "execution_count": 9,
   "id": "51ce6270",
   "metadata": {},
   "outputs": [],
   "source": [
    "from DSA import*"
   ]
  },
  {
   "cell_type": "code",
   "execution_count": 2,
   "id": "2c81c516",
   "metadata": {},
   "outputs": [
    {
     "name": "stdout",
     "output_type": "stream",
     "text": [
      "['b', 'a']\n",
      "a\n"
     ]
    }
   ],
   "source": [
    "# NOTE: Queue ----------------------------------------------------------------------------------------------------\n",
    "q = Queue()\n",
    "q.enqueue('a')\n",
    "q.enqueue('b')\n",
    "print(q.display())\n",
    "# print(q.front())\n",
    "# print(q.rear())\n",
    "print(q.dequeue())\n",
    "# print(q.display())\n"
   ]
  },
  {
   "cell_type": "code",
   "execution_count": 3,
   "id": "add0f4fb",
   "metadata": {},
   "outputs": [
    {
     "name": "stdout",
     "output_type": "stream",
     "text": [
      "[]\n"
     ]
    }
   ],
   "source": [
    "# pr# NOTE: Circular Queue -----------------------------------------------------------------------------------------\n",
    "CQ=CircularQueue(4)\n",
    "# CQ.enqueue('b')\n",
    "# CQ.enqueue('c')\n",
    "# CQ.enqueue('d')\n",
    "# CQ.enqueue('e')\n",
    "# CQ.display()\n",
    "# CQ.dequeue()\n",
    "# CQ.dequeue()\n",
    "# CQ.display()\n",
    "# CQ.enqueue(7)\n",
    "CQ.display()"
   ]
  },
  {
   "cell_type": "code",
   "execution_count": 4,
   "id": "ea435bb9",
   "metadata": {},
   "outputs": [
    {
     "name": "stdout",
     "output_type": "stream",
     "text": [
      "linked List [5]\n"
     ]
    },
    {
     "data": {
      "text/plain": [
       "[5]"
      ]
     },
     "execution_count": 4,
     "metadata": {},
     "output_type": "execute_result"
    }
   ],
   "source": [
    "# NOTE: Linked List-----------------------------------------------------------------------------------------------\n",
    "obj=Linked_list()\n",
    "obj.insert_first(5)\n",
    "obj.display()\n",
    "# obj.insert_last(4)\n",
    "# obj.display()\n",
    "# obj.insert_last(6)\n",
    "# obj.display()\n",
    "# obj.insert_first(5)\n",
    "# obj.display()\n",
    "# obj.insert_first(10)\n",
    "# obj.insert_first(10)\n",
    "# obj.display()\n",
    "# obj.insert_position(0,1)\n",
    "# obj.display()\n",
    "# obj.insert_position(2,3)\n",
    "# obj.display()\n",
    "# print('delete methods')\n",
    "# obj.delete_first()\n",
    "# obj.display()\n",
    "# obj.delete_last()\n",
    "# obj.display()\n",
    "# obj.delete_data(3)\n",
    "# obj.display()\n",
    "# obj.delete_position(2)\n",
    "# obj.display()\n",
    "# obj.delete_position(3)\n",
    "# obj.display()\n",
    "# obj.delete_all()\n",
    "# obj.display()\n",
    "# obj.traverse()\n",
    "# print(obj.count())\n",
    "# obj.find(100)\n",
    "# obj.merge()\n",
    "# obj.divide_odd()\n",
    "# obj.divide_even()\n",
    "# obj.deletedata(4)\n",
    "# obj.delete_end()\n",
    "# obj.delete_first()\n",
    "# obj.deleteall()\n",
    "# obj.count()\n",
    "# obj.find(5)\n",
    "# obj.display()\n",
    "# obj.merge()\n",
    "# obj.divideodd()\n",
    "# obj.divideeven()\n",
    "# obj.insertpos(15,2)\n",
    "# obj.delpos(2)\n",
    "# obj.display()\n"
   ]
  },
  {
   "cell_type": "code",
   "execution_count": 5,
   "id": "28fbf29d",
   "metadata": {},
   "outputs": [
    {
     "name": "stdout",
     "output_type": "stream",
     "text": [
      "doubly linked list is [2]\n"
     ]
    },
    {
     "data": {
      "text/plain": [
       "[2]"
      ]
     },
     "execution_count": 5,
     "metadata": {},
     "output_type": "execute_result"
    }
   ],
   "source": [
    "# NOTE: Double_Linked_list ------------------------------------------------------------------------------------\n",
    "obj=Double_Linked_list()\n",
    "obj.insert_first(2)\n",
    "obj.display()\n",
    "# obj.insert_last(5)\n",
    "# obj.display()\n",
    "# obj.insert_position(0,1)\n",
    "# obj.display()\n",
    "# obj.insert_position(1,3)\n",
    "# obj.display()\n",
    "# obj.insert_position(2,7)\n",
    "# obj.display()\n",
    "# obj.insert_position(5,7)\n",
    "# print('Delete methods')\n",
    "# obj.delete_first()\n",
    "# obj.display()\n",
    "# obj.delete_last()\n",
    "# obj.display()\n",
    "# obj.delete_position(1)\n",
    "# obj.display()\n",
    "# obj.delete_position(5)\n",
    "# obj.display()\n",
    "# obj.delete_all()\n",
    "# obj.traverse()\n",
    "# obj.display()\n",
    "# obj.find(2)\n",
    "# obj.divide_odd()\n",
    "# obj.divide_even()\n",
    "# obj.merge()\n",
    "\n",
    "# obj.del_first()\n",
    "# obj.del_last()\n",
    "# # obj.delete_all()\n",
    "# obj.count()\n",
    "# obj.find(5)\n",
    "# obj.divideodd()\n",
    "# obj.divideeven()\n",
    "# obj.merge()\n",
    "# obj.del_pos(2)\n",
    "# obj.insert_pos(2,10)\n",
    "# obj.printDLL()\n",
    "\n"
   ]
  },
  {
   "cell_type": "code",
   "execution_count": 6,
   "id": "53fc2acc",
   "metadata": {},
   "outputs": [],
   "source": [
    "# NOTE: Binary Search Tree ------------------------------------------------------------------------------------\n",
    "BST = Binary_Search_Tree()\n",
    "BST.insert(30) \t\t\t\t\t\t\t#\t\t\t\t\t\t 30\t\t\t\t\t\t level 0\n",
    "# \t\t\t\t\t\t\t\t\t\t\t\t#\t\t\t\t\t\t/\t\t\\\n",
    "# BST.insert(10)\t\t\t\t\t\t\t#\t\t\t\t10\t\t\t\t35\t\t\t  level 1\n",
    "# BST.insert(35)\t\t\t\t\t\t\t#\t\t\t\t/\t \\\t\t\t\t\t\\\n",
    "# BST.insert(5)\t\t\t\t\t\t\t#\t\t\t 5\t\t15\t\t\t\t 45\t\t level 2\n",
    "# BST.insert(15)\t\t\t\t\t\t\t#\t\t\t\t\t/\t \\\t\t\t\t/\n",
    "# BST.insert(45)\t\t\t\t\t\t\t#\t\t\t\t  11\t25\t\t 40\t\t   level 3\n",
    "# BST.insert(11)\n",
    "# BST.insert(25)\n",
    "# BST.insert(40)\n",
    "\n",
    "# BST.display(BST.root)\n",
    "# BST.find(40, BST.root)\n",
    "# BST.level(40)\n",
    "# print('height of the tree is: ', BST.tree_depth(BST.root))\n"
   ]
  },
  {
   "cell_type": "code",
   "execution_count": 10,
   "id": "ef1aa2de",
   "metadata": {},
   "outputs": [
    {
     "name": "stdout",
     "output_type": "stream",
     "text": [
      "sorting of  [12, 45, 0, 11, 89]\n",
      "[89, 45, 12, 11, 0]\n"
     ]
    },
    {
     "data": {
      "text/plain": [
       "[89, 45, 12, 11, 0]"
      ]
     },
     "execution_count": 10,
     "metadata": {},
     "output_type": "execute_result"
    }
   ],
   "source": [
    "\n",
    "# NOTE: Sorting Algorithms -------------------------------------------------------------------------------------\n",
    "arr=[12, 45, 0, 11, 89]\n",
    "print('sorting of ', arr)\n",
    "Bubble_Sorting(arr, 1)\n",
    "# Selection_Sorting(arr,1)\n",
    "# Insertion_Sorting(arr,0)\n",
    "# Merge_Sorting(arr,1)\n"
   ]
  },
  {
   "cell_type": "code",
   "execution_count": 11,
   "id": "afe68dd0",
   "metadata": {},
   "outputs": [
    {
     "name": "stdout",
     "output_type": "stream",
     "text": [
      "[1, 2]\n",
      "[3, 4]\n",
      "[3, 6]\n",
      "[3, 7]\n",
      "[1, 3]\n",
      "[4, 5]\n"
     ]
    }
   ],
   "source": [
    "# NOTE: Kruskal Algorithm -------------------------------------------------------------------------------------\n",
    "a = [[1,2,1],[3,4,1],[3,6,2],[3,7,2],[1,3,3],[2,6,4],[4,5,5],[6,5,6],[7,5,7]]\n",
    "k = Kruskal_Algorithm(a,7)\n"
   ]
  },
  {
   "cell_type": "code",
   "execution_count": 8,
   "id": "985e0cfa",
   "metadata": {},
   "outputs": [
    {
     "name": "stdout",
     "output_type": "stream",
     "text": [
      "Prims Algorithm\n",
      "Added Node : 0, Distance : 0\n",
      "Added Node : 1, Distance : 1\n",
      "Added Node : 3, Distance : 2\n",
      "Added Node : 4, Distance : 3\n",
      "Added Node : 6, Distance : 4\n",
      "Added Node : 2, Distance : 5\n",
      "Added Node : 5, Distance : 6\n",
      "Distance of the minimum spanning tree in graph 1 : 6\n",
      "\n"
     ]
    }
   ],
   "source": [
    "# NOTE: Prims Algorithm ---------------------------------------------------------------------------------------\n",
    "print(\"Prims Algorithm\")\n",
    "g1_edges_from_node = {}\n",
    "\n",
    "# Outgoing edges from the node: (adjacent_node, cost) in graph 1.\n",
    "g1_edges_from_node[0] = [ (1,1), (2,2), (3,1), (4,1), (5,2), (6,1) ]\n",
    "g1_edges_from_node[1] = [ (0,1), (2,2), (6,2) ]\n",
    "g1_edges_from_node[2] = [ (0,2), (1,2), (3,1) ]\n",
    "g1_edges_from_node[3] = [ (0,1), (2,1), (4,2) ]\n",
    "g1_edges_from_node[4] = [ (0,1), (3,2), (5,2) ]\n",
    "g1_edges_from_node[5] = [ (0,2), (4,2), (6,1) ]\n",
    "g1_edges_from_node[6] = [ (0,1), (2,2), (5,1) ]\n",
    "\n",
    "g1 = Prims(0, g1_edges_from_node)\n",
    "cost = g1.PrimsMST()\n",
    "print(\"Distance of the minimum spanning tree in graph 1 : \" + str(cost) +\"\\n\")\n",
    "\n"
   ]
  },
  {
   "cell_type": "code",
   "execution_count": null,
   "id": "345b2604",
   "metadata": {},
   "outputs": [],
   "source": [
    "# NOTE: Dijkstras Algorithm ------------------------------------------------------------------------------------\n",
    "G = {\n",
    " 'A': {('C', 76)},\n",
    " 'B': {('C', 20), ('J', 78)},\n",
    " 'C': {('C', 62), ('F', 99), ('G', 72), ('H', 40)},\n",
    " 'D': {('A',  8), ('G', 71), ('I', 61)},\n",
    " 'E': {('C', 16), ('E', 54), ('I',  3)},\n",
    " 'F': {('J', 66)},\n",
    " 'G': {('B', 92), ('E', 48), ('G', 31)},\n",
    " 'H': {('G', 36)},\n",
    " 'I': {('J', 88), ('K', 16)},\n",
    " 'J': {('H',  4), ('K', 46)},\n",
    " 'K': {('I', 40)}\n",
    "}\n",
    "d = Dijkstras()\n",
    "parent = d.dijkstra(G, 'A', 'K')\n",
    "print(d.make_path(parent, 'K'))\n",
    "int(q.front())"
   ]
  }
 ],
 "metadata": {
  "kernelspec": {
   "display_name": "Python 3 (ipykernel)",
   "language": "python",
   "name": "python3"
  },
  "language_info": {
   "codemirror_mode": {
    "name": "ipython",
    "version": 3
   },
   "file_extension": ".py",
   "mimetype": "text/x-python",
   "name": "python",
   "nbconvert_exporter": "python",
   "pygments_lexer": "ipython3",
   "version": "3.9.7"
  }
 },
 "nbformat": 4,
 "nbformat_minor": 5
}
